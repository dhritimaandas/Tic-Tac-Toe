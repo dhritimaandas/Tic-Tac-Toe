{
 "cells": [
  {
   "cell_type": "code",
   "execution_count": 1,
   "metadata": {},
   "outputs": [],
   "source": [
    "def board(test_input):\n",
    "    print(test_input[6]+'|'+test_input[7]+'|'+test_input[8])\n",
    "    print('_'+'_'+'_'+'_'+'_')\n",
    "    print(test_input[3]+'|'+test_input[4]+'|'+test_input[5])\n",
    "    print('_'+'_'+'_'+'_'+'_')\n",
    "    print(test_input[0]+'|'+test_input[1]+'|'+test_input[2])"
   ]
  },
  {
   "cell_type": "code",
   "execution_count": 2,
   "metadata": {},
   "outputs": [
    {
     "name": "stdout",
     "output_type": "stream",
     "text": [
      "X|O|x\n",
      "_____\n",
      "O|X|O\n",
      "_____\n",
      "X|O|X\n"
     ]
    }
   ],
   "source": [
    "test_input=['X','O','X','O','X','O','X','O','x']\n",
    "board(test_input)"
   ]
  },
  {
   "cell_type": "code",
   "execution_count": null,
   "metadata": {},
   "outputs": [],
   "source": [
    "def player_cursor():\n",
    "    player_1=''\n",
    "    player_2=''\n",
    "    while (player_1!= 'X' and player_1 !='O'):\n",
    "        player_1=input(\"Enter desiered cursor: \")\n",
    "    if player_1 == 'X':\n",
    "        return ('X','O')\n",
    "    else:\n",
    "        return ('O','X')"
   ]
  },
  {
   "cell_type": "code",
   "execution_count": null,
   "metadata": {},
   "outputs": [],
   "source": [
    "(player_1,player_2)=player_cursor()"
   ]
  },
  {
   "cell_type": "code",
   "execution_count": null,
   "metadata": {},
   "outputs": [],
   "source": [
    "def position(actual_input,position,letter):\n",
    "    actual_input[position]=letter"
   ]
  },
  {
   "cell_type": "code",
   "execution_count": null,
   "metadata": {},
   "outputs": [],
   "source": [
    "def win(actual_input,mark):\n",
    "    return((actual_input[0]==mark and actual_input[1]==mark and actual_input[2]==mark) or\n",
    "           (actual_input[3]==mark and actual_input[4]==mark and actual_input[5]==mark) or\n",
    "           (actual_input[6]==mark and actual_input[7]==mark and actual_input[8]==mark) or\n",
    "           (actual_input[0]==mark and actual_input[3]==mark and actual_input[6]==mark) or\n",
    "           (actual_input[1]==mark and actual_input[4]==mark and actual_input[7]==mark) or\n",
    "           (actual_input[2]==mark and actual_input[5]==mark and actual_input[8]==mark) or\n",
    "           (actual_input[0]==mark and actual_input[4]==mark and actual_input[8]==mark) or\n",
    "           (actual_input[2]==mark and actual_input[4]==mark and actual_input[6]==mark))"
   ]
  },
  {
   "cell_type": "code",
   "execution_count": null,
   "metadata": {},
   "outputs": [],
   "source": [
    "board(test_input)\n",
    "win(test_input,'X')"
   ]
  },
  {
   "cell_type": "code",
   "execution_count": null,
   "metadata": {},
   "outputs": [],
   "source": [
    "import random\n",
    "def first_player():\n",
    "    x=random.randint(0,1)\n",
    "    if x==0:\n",
    "        return \"player_1\"\n",
    "    else:\n",
    "        return \"player_2\""
   ]
  },
  {
   "cell_type": "code",
   "execution_count": null,
   "metadata": {},
   "outputs": [],
   "source": [
    "def space_check(test_input,position):\n",
    "    if test_input[position] == '':\n",
    "        pass\n",
    "    else:\n",
    "        print(\"the place is occupied\")"
   ]
  },
  {
   "cell_type": "code",
   "execution_count": null,
   "metadata": {},
   "outputs": [],
   "source": [
    "def full_space(actual_input):\n",
    "    for i in range(0,9):\n",
    "        if actual_input[i] == '':\n",
    "            break\n",
    "    return False\n",
    "    "
   ]
  },
  {
   "cell_type": "code",
   "execution_count": null,
   "metadata": {},
   "outputs": [],
   "source": [
    "#While loop to run\n",
    "#first choose marker, first turn and board\n",
    "the_board=[' ']*10\n",
    "(player_1_marker,player_2_marker)=player_cursor()\n",
    "starter=first_player()\n",
    "a=input('Ready to play y or n: ')\n",
    "\n",
    "if a == 'y':\n",
    "    play_game=True\n",
    "else:\n",
    "    play_game=False\n",
    "    \n",
    "while play_game:\n",
    "    if starter == 'player_1':\n",
    "        board(the_board)\n",
    "        position_=int(input('Enter ur position:'))\n",
    "        position(the_board,position_,player_1_marker)\n",
    "        if win(the_board,player_1_marker):\n",
    "            board(the_board)\n",
    "            print('Player 1 has won!!!')\n",
    "            play_game=False\n",
    "        else:\n",
    "            if full_space(the_board):\n",
    "                board(the_board)\n",
    "                print('its a tie')\n",
    "                play_game=False\n",
    "            else:\n",
    "                starter='player_2'\n",
    "        \n",
    "    else:\n",
    "        board(the_board)\n",
    "        position_=int(input('Enter ur position:'))\n",
    "        position(the_board,position_,player_2_marker)\n",
    "        if win(the_board,player_2_marker):\n",
    "            board(the_board)\n",
    "            print('Player 2 has won!!!')\n",
    "            play_game=False\n",
    "        else:\n",
    "            if full_space(the_board):\n",
    "                board(the_board)\n",
    "                print('its a tie')\n",
    "                play_game=False\n",
    "            else:\n",
    "                starter='player_1'\n",
    "        \n",
    "        \n"
   ]
  },
  {
   "cell_type": "code",
   "execution_count": null,
   "metadata": {},
   "outputs": [],
   "source": []
  }
 ],
 "metadata": {
  "kernelspec": {
   "display_name": "Python 3",
   "language": "python",
   "name": "python3"
  },
  "language_info": {
   "codemirror_mode": {
    "name": "ipython",
    "version": 3
   },
   "file_extension": ".py",
   "mimetype": "text/x-python",
   "name": "python",
   "nbconvert_exporter": "python",
   "pygments_lexer": "ipython3",
   "version": "3.6.4"
  }
 },
 "nbformat": 4,
 "nbformat_minor": 2
}
